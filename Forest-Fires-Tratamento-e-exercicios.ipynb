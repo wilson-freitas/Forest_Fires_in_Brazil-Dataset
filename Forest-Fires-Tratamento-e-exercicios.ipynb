{
 "cells": [
  {
   "cell_type": "markdown",
   "id": "eb5f821e",
   "metadata": {},
   "source": [
    "## Notebook destinado ao tratamento da base de dados 'Forest Fires in Brazil'"
   ]
  },
  {
   "cell_type": "code",
   "execution_count": 89,
   "id": "77ebe027",
   "metadata": {},
   "outputs": [],
   "source": [
    "import pandas as pd\n",
    "import numpy as np"
   ]
  },
  {
   "cell_type": "markdown",
   "id": "f14a12ac",
   "metadata": {},
   "source": [
    "#### Ao tentar importar a base diretamente, você receberá um erro, isso se dá pois a base de dados possui valores como 'ç' e letras acentuadas, o decodificador padrão do pandas não interpreta esses valores, para isso usaremos o decodificador 'latin1' como parâmetro na função 'read_csv()'. Além disso, os valores maiores que 999 foram computados com  um ponto '.' dividindo a casa dos milhares, para amenizar o problema, vamos usar o parâmetro decimals=',' que nos ajudará no tratamento dos dados"
   ]
  },
  {
   "cell_type": "code",
   "execution_count": 47,
   "id": "d3478dc2",
   "metadata": {},
   "outputs": [
    {
     "data": {
      "text/html": [
       "<div>\n",
       "<style scoped>\n",
       "    .dataframe tbody tr th:only-of-type {\n",
       "        vertical-align: middle;\n",
       "    }\n",
       "\n",
       "    .dataframe tbody tr th {\n",
       "        vertical-align: top;\n",
       "    }\n",
       "\n",
       "    .dataframe thead th {\n",
       "        text-align: right;\n",
       "    }\n",
       "</style>\n",
       "<table border=\"1\" class=\"dataframe\">\n",
       "  <thead>\n",
       "    <tr style=\"text-align: right;\">\n",
       "      <th></th>\n",
       "      <th>year</th>\n",
       "      <th>state</th>\n",
       "      <th>month</th>\n",
       "      <th>number</th>\n",
       "      <th>date</th>\n",
       "    </tr>\n",
       "  </thead>\n",
       "  <tbody>\n",
       "    <tr>\n",
       "      <th>0</th>\n",
       "      <td>1998</td>\n",
       "      <td>Acre</td>\n",
       "      <td>Janeiro</td>\n",
       "      <td>0</td>\n",
       "      <td>1998-01-01</td>\n",
       "    </tr>\n",
       "    <tr>\n",
       "      <th>1</th>\n",
       "      <td>1999</td>\n",
       "      <td>Acre</td>\n",
       "      <td>Janeiro</td>\n",
       "      <td>0</td>\n",
       "      <td>1999-01-01</td>\n",
       "    </tr>\n",
       "    <tr>\n",
       "      <th>2</th>\n",
       "      <td>2000</td>\n",
       "      <td>Acre</td>\n",
       "      <td>Janeiro</td>\n",
       "      <td>0</td>\n",
       "      <td>2000-01-01</td>\n",
       "    </tr>\n",
       "    <tr>\n",
       "      <th>3</th>\n",
       "      <td>2001</td>\n",
       "      <td>Acre</td>\n",
       "      <td>Janeiro</td>\n",
       "      <td>0</td>\n",
       "      <td>2001-01-01</td>\n",
       "    </tr>\n",
       "    <tr>\n",
       "      <th>4</th>\n",
       "      <td>2002</td>\n",
       "      <td>Acre</td>\n",
       "      <td>Janeiro</td>\n",
       "      <td>0</td>\n",
       "      <td>2002-01-01</td>\n",
       "    </tr>\n",
       "  </tbody>\n",
       "</table>\n",
       "</div>"
      ],
      "text/plain": [
       "   year state    month number        date\n",
       "0  1998  Acre  Janeiro      0  1998-01-01\n",
       "1  1999  Acre  Janeiro      0  1999-01-01\n",
       "2  2000  Acre  Janeiro      0  2000-01-01\n",
       "3  2001  Acre  Janeiro      0  2001-01-01\n",
       "4  2002  Acre  Janeiro      0  2002-01-01"
      ]
     },
     "execution_count": 47,
     "metadata": {},
     "output_type": "execute_result"
    }
   ],
   "source": [
    "df_incendios = pd.read_csv('amazon.csv', encoding='latin1', decimal=',')\n",
    "df_incendios.head()"
   ]
  },
  {
   "cell_type": "markdown",
   "id": "3d7415eb",
   "metadata": {},
   "source": [
    "A base foi importada, vamos checar as informações:"
   ]
  },
  {
   "cell_type": "code",
   "execution_count": 48,
   "id": "bbcedc86",
   "metadata": {},
   "outputs": [
    {
     "name": "stdout",
     "output_type": "stream",
     "text": [
      "<class 'pandas.core.frame.DataFrame'>\n",
      "RangeIndex: 6454 entries, 0 to 6453\n",
      "Data columns (total 5 columns):\n",
      " #   Column  Non-Null Count  Dtype \n",
      "---  ------  --------------  ----- \n",
      " 0   year    6454 non-null   int64 \n",
      " 1   state   6454 non-null   object\n",
      " 2   month   6454 non-null   object\n",
      " 3   number  6454 non-null   object\n",
      " 4   date    6454 non-null   object\n",
      "dtypes: int64(1), object(4)\n",
      "memory usage: 252.2+ KB\n"
     ]
    }
   ],
   "source": [
    "df_incendios.info()"
   ]
  },
  {
   "cell_type": "markdown",
   "id": "8d04a4c4",
   "metadata": {},
   "source": [
    "Olhando os valores da coluna 'state' podemos observar alguns problemas:"
   ]
  },
  {
   "cell_type": "code",
   "execution_count": 49,
   "id": "dd5ed816",
   "metadata": {},
   "outputs": [
    {
     "data": {
      "text/plain": [
       "array(['Acre', 'Alagoas', 'Amapa', 'Amazonas', 'Bahia', 'Ceara',\n",
       "       'Distrito Federal', 'Espirito Santo', 'Goias', 'Maranhao',\n",
       "       'Mato Grosso', 'Minas Gerais', 'Pará', 'Paraiba', 'Pernambuco',\n",
       "       'Piau', 'Rio', 'Rondonia', 'Roraima', 'Santa Catarina',\n",
       "       'Sao Paulo', 'Sergipe', 'Tocantins'], dtype=object)"
      ]
     },
     "execution_count": 49,
     "metadata": {},
     "output_type": "execute_result"
    }
   ],
   "source": [
    "df_incendios['state'].unique()"
   ]
  },
  {
   "cell_type": "markdown",
   "id": "ba8caa0d",
   "metadata": {},
   "source": [
    "Podemos observar que existem problemas na base de dados:\n",
    "- Um estado chamado 'Rio'\n",
    "- Faltam os estados do Paraná e do Mato Grosso do Sul\n",
    "- O estado do Piauí está escrito apenas como 'Piau'"
   ]
  },
  {
   "cell_type": "markdown",
   "id": "97b6773f",
   "metadata": {},
   "source": [
    "Vamos visualizar a quantidade de registros por estado, para facilitar nosso tratamento dos dados"
   ]
  },
  {
   "cell_type": "code",
   "execution_count": 51,
   "id": "883088c1",
   "metadata": {},
   "outputs": [
    {
     "data": {
      "text/plain": [
       "state\n",
       "Rio                 717\n",
       "Paraiba             478\n",
       "Mato Grosso         478\n",
       "Alagoas             240\n",
       "Acre                239\n",
       "Sergipe             239\n",
       "Sao Paulo           239\n",
       "Santa Catarina      239\n",
       "Roraima             239\n",
       "Rondonia            239\n",
       "Piau                239\n",
       "Pernambuco          239\n",
       "Minas Gerais        239\n",
       "Pará                239\n",
       "Maranhao            239\n",
       "Goias               239\n",
       "Espirito Santo      239\n",
       "Distrito Federal    239\n",
       "Ceara               239\n",
       "Bahia               239\n",
       "Amazonas            239\n",
       "Amapa               239\n",
       "Tocantins           239\n",
       "Name: count, dtype: int64"
      ]
     },
     "execution_count": 51,
     "metadata": {},
     "output_type": "execute_result"
    }
   ],
   "source": [
    "df_incendios['state'].value_counts()"
   ]
  },
  {
   "cell_type": "markdown",
   "id": "9150947f",
   "metadata": {},
   "source": [
    "Percebe-se que:\n",
    "- O estado 'Rio' possui 3 estados combinados (Rio de Janeiro, Rio Grande do Norte e Rio Grande do Sul)\n",
    "- O estado 'Mato Grosso' possui outro estado combinado a ele (Mato Grosso do Sul)\n",
    "- O estado 'Paraiba' possui outro estado combinado a ele (Paraná)\n",
    "- O estado de Alagoas possui um registro a mais do que os demais"
   ]
  },
  {
   "cell_type": "markdown",
   "id": "6b328421",
   "metadata": {},
   "source": [
    "### Vamos realizar o tratamento por partes:"
   ]
  },
  {
   "cell_type": "markdown",
   "id": "2c786fbb",
   "metadata": {},
   "source": [
    "#### Tratamento 1 - Alagoas possui 1 registro a mais:"
   ]
  },
  {
   "cell_type": "markdown",
   "id": "ea3882ac",
   "metadata": {},
   "source": [
    "Primeiro, criei um dataframe reduzido apenas para Alagoas, facilitando a análise"
   ]
  },
  {
   "cell_type": "code",
   "execution_count": 52,
   "id": "59c5360f",
   "metadata": {},
   "outputs": [
    {
     "name": "stdout",
     "output_type": "stream",
     "text": [
      "     year    state    month number        date\n",
      "239  1998  Alagoas  Janeiro      0  1998-01-01\n",
      "240  1999  Alagoas  Janeiro     58  1999-01-01\n",
      "241  2000  Alagoas  Janeiro     11  2000-01-01\n",
      "242  2001  Alagoas  Janeiro      5  2001-01-01\n",
      "243  2002  Alagoas  Janeiro     12  2002-01-01\n",
      "     year    state     month number        date\n",
      "474  2012  Alagoas  Dezembro     59  2012-01-01\n",
      "475  2013  Alagoas  Dezembro     42  2013-01-01\n",
      "476  2014  Alagoas  Dezembro     24  2014-01-01\n",
      "477  2015  Alagoas  Dezembro    136  2015-01-01\n",
      "478  2016  Alagoas  Dezembro    155  2016-01-01\n"
     ]
    }
   ],
   "source": [
    "df_alagoas = df_incendios[df_incendios['state']=='Alagoas']\n",
    "print(df_alagoas.head())\n",
    "print(df_alagoas.tail())"
   ]
  },
  {
   "cell_type": "markdown",
   "id": "d01cc831",
   "metadata": {},
   "source": [
    "Com o dataframe reduzido, usei a função 'duplicated' para procurar duplicatas, o parâmetro keep=False marca todos os registros duplicados."
   ]
  },
  {
   "cell_type": "code",
   "execution_count": 41,
   "id": "a7541ee5",
   "metadata": {},
   "outputs": [
    {
     "data": {
      "text/html": [
       "<div>\n",
       "<style scoped>\n",
       "    .dataframe tbody tr th:only-of-type {\n",
       "        vertical-align: middle;\n",
       "    }\n",
       "\n",
       "    .dataframe tbody tr th {\n",
       "        vertical-align: top;\n",
       "    }\n",
       "\n",
       "    .dataframe thead th {\n",
       "        text-align: right;\n",
       "    }\n",
       "</style>\n",
       "<table border=\"1\" class=\"dataframe\">\n",
       "  <thead>\n",
       "    <tr style=\"text-align: right;\">\n",
       "      <th></th>\n",
       "      <th>year</th>\n",
       "      <th>state</th>\n",
       "      <th>month</th>\n",
       "      <th>number</th>\n",
       "      <th>date</th>\n",
       "    </tr>\n",
       "  </thead>\n",
       "  <tbody>\n",
       "    <tr>\n",
       "      <th>258</th>\n",
       "      <td>2017</td>\n",
       "      <td>Alagoas</td>\n",
       "      <td>Janeiro</td>\n",
       "      <td>38.0</td>\n",
       "      <td>2017-01-01</td>\n",
       "    </tr>\n",
       "    <tr>\n",
       "      <th>259</th>\n",
       "      <td>2017</td>\n",
       "      <td>Alagoas</td>\n",
       "      <td>Janeiro</td>\n",
       "      <td>38.0</td>\n",
       "      <td>2017-01-01</td>\n",
       "    </tr>\n",
       "  </tbody>\n",
       "</table>\n",
       "</div>"
      ],
      "text/plain": [
       "     year    state    month  number        date\n",
       "258  2017  Alagoas  Janeiro    38.0  2017-01-01\n",
       "259  2017  Alagoas  Janeiro    38.0  2017-01-01"
      ]
     },
     "execution_count": 41,
     "metadata": {},
     "output_type": "execute_result"
    }
   ],
   "source": [
    "df_alagoas[df_alagoas.duplicated(keep=False)]"
   ]
  },
  {
   "cell_type": "markdown",
   "id": "d837e8b9",
   "metadata": {},
   "source": [
    "Achamos o valor duplicado de alagoas, vamos remove-lo do DataFrame principal (df_incendios)"
   ]
  },
  {
   "cell_type": "code",
   "execution_count": 53,
   "id": "9a88b669",
   "metadata": {},
   "outputs": [],
   "source": [
    "df_incendios.drop(index = 259, inplace=True)\n",
    "\n",
    "# resetando o indice do dataframe\n",
    "df_incendios.reset_index(drop=True, inplace=True)"
   ]
  },
  {
   "cell_type": "code",
   "execution_count": 54,
   "id": "a09d5032",
   "metadata": {},
   "outputs": [
    {
     "data": {
      "text/plain": [
       "state\n",
       "Rio                 717\n",
       "Mato Grosso         478\n",
       "Paraiba             478\n",
       "Acre                239\n",
       "Pará                239\n",
       "Sergipe             239\n",
       "Sao Paulo           239\n",
       "Santa Catarina      239\n",
       "Roraima             239\n",
       "Rondonia            239\n",
       "Piau                239\n",
       "Pernambuco          239\n",
       "Minas Gerais        239\n",
       "Alagoas             239\n",
       "Maranhao            239\n",
       "Goias               239\n",
       "Espirito Santo      239\n",
       "Distrito Federal    239\n",
       "Ceara               239\n",
       "Bahia               239\n",
       "Amazonas            239\n",
       "Amapa               239\n",
       "Tocantins           239\n",
       "Name: count, dtype: int64"
      ]
     },
     "execution_count": 54,
     "metadata": {},
     "output_type": "execute_result"
    }
   ],
   "source": [
    "# verificando novamente a contagem de registros por estado\n",
    "df_incendios['state'].value_counts()"
   ]
  },
  {
   "cell_type": "markdown",
   "id": "e784d5aa",
   "metadata": {},
   "source": [
    "---"
   ]
  },
  {
   "cell_type": "markdown",
   "id": "6b62f7cd",
   "metadata": {},
   "source": [
    "#### Tratamento 2 - Mato Grosso e Mato Grosso do Sul combinados em um único estado:"
   ]
  },
  {
   "cell_type": "markdown",
   "id": "beaedcd8",
   "metadata": {},
   "source": [
    "Como observado que cada estado possui 239 registros, podemos dividir os 478 registros de 'Mato Grosso' em 2 partes iguais.\n",
    "Supondo a ordem alfabética da base de dados, a ordem deve ser, primeiro Mato Grosso e depois Mato Grosso do Sul\n",
    "\n",
    "Utilizando a mesma abordagem de criar um dataframe para nossa análise:"
   ]
  },
  {
   "cell_type": "code",
   "execution_count": 55,
   "id": "3b04582a",
   "metadata": {},
   "outputs": [
    {
     "data": {
      "text/html": [
       "<div>\n",
       "<style scoped>\n",
       "    .dataframe tbody tr th:only-of-type {\n",
       "        vertical-align: middle;\n",
       "    }\n",
       "\n",
       "    .dataframe tbody tr th {\n",
       "        vertical-align: top;\n",
       "    }\n",
       "\n",
       "    .dataframe thead th {\n",
       "        text-align: right;\n",
       "    }\n",
       "</style>\n",
       "<table border=\"1\" class=\"dataframe\">\n",
       "  <thead>\n",
       "    <tr style=\"text-align: right;\">\n",
       "      <th></th>\n",
       "      <th>year</th>\n",
       "      <th>state</th>\n",
       "      <th>month</th>\n",
       "      <th>number</th>\n",
       "      <th>date</th>\n",
       "    </tr>\n",
       "  </thead>\n",
       "  <tbody>\n",
       "    <tr>\n",
       "      <th>2390</th>\n",
       "      <td>1998</td>\n",
       "      <td>Mato Grosso</td>\n",
       "      <td>Janeiro</td>\n",
       "      <td>0</td>\n",
       "      <td>1998-01-01</td>\n",
       "    </tr>\n",
       "    <tr>\n",
       "      <th>2391</th>\n",
       "      <td>1999</td>\n",
       "      <td>Mato Grosso</td>\n",
       "      <td>Janeiro</td>\n",
       "      <td>39</td>\n",
       "      <td>1999-01-01</td>\n",
       "    </tr>\n",
       "    <tr>\n",
       "      <th>2392</th>\n",
       "      <td>2000</td>\n",
       "      <td>Mato Grosso</td>\n",
       "      <td>Janeiro</td>\n",
       "      <td>44</td>\n",
       "      <td>2000-01-01</td>\n",
       "    </tr>\n",
       "    <tr>\n",
       "      <th>2393</th>\n",
       "      <td>2001</td>\n",
       "      <td>Mato Grosso</td>\n",
       "      <td>Janeiro</td>\n",
       "      <td>44</td>\n",
       "      <td>2001-01-01</td>\n",
       "    </tr>\n",
       "    <tr>\n",
       "      <th>2394</th>\n",
       "      <td>2002</td>\n",
       "      <td>Mato Grosso</td>\n",
       "      <td>Janeiro</td>\n",
       "      <td>172</td>\n",
       "      <td>2002-01-01</td>\n",
       "    </tr>\n",
       "    <tr>\n",
       "      <th>...</th>\n",
       "      <td>...</td>\n",
       "      <td>...</td>\n",
       "      <td>...</td>\n",
       "      <td>...</td>\n",
       "      <td>...</td>\n",
       "    </tr>\n",
       "    <tr>\n",
       "      <th>2863</th>\n",
       "      <td>2012</td>\n",
       "      <td>Mato Grosso</td>\n",
       "      <td>Dezembro</td>\n",
       "      <td>194</td>\n",
       "      <td>2012-01-01</td>\n",
       "    </tr>\n",
       "    <tr>\n",
       "      <th>2864</th>\n",
       "      <td>2013</td>\n",
       "      <td>Mato Grosso</td>\n",
       "      <td>Dezembro</td>\n",
       "      <td>195</td>\n",
       "      <td>2013-01-01</td>\n",
       "    </tr>\n",
       "    <tr>\n",
       "      <th>2865</th>\n",
       "      <td>2014</td>\n",
       "      <td>Mato Grosso</td>\n",
       "      <td>Dezembro</td>\n",
       "      <td>84</td>\n",
       "      <td>2014-01-01</td>\n",
       "    </tr>\n",
       "    <tr>\n",
       "      <th>2866</th>\n",
       "      <td>2015</td>\n",
       "      <td>Mato Grosso</td>\n",
       "      <td>Dezembro</td>\n",
       "      <td>394</td>\n",
       "      <td>2015-01-01</td>\n",
       "    </tr>\n",
       "    <tr>\n",
       "      <th>2867</th>\n",
       "      <td>2016</td>\n",
       "      <td>Mato Grosso</td>\n",
       "      <td>Dezembro</td>\n",
       "      <td>123</td>\n",
       "      <td>2016-01-01</td>\n",
       "    </tr>\n",
       "  </tbody>\n",
       "</table>\n",
       "<p>478 rows × 5 columns</p>\n",
       "</div>"
      ],
      "text/plain": [
       "      year        state     month number        date\n",
       "2390  1998  Mato Grosso   Janeiro      0  1998-01-01\n",
       "2391  1999  Mato Grosso   Janeiro     39  1999-01-01\n",
       "2392  2000  Mato Grosso   Janeiro     44  2000-01-01\n",
       "2393  2001  Mato Grosso   Janeiro     44  2001-01-01\n",
       "2394  2002  Mato Grosso   Janeiro    172  2002-01-01\n",
       "...    ...          ...       ...    ...         ...\n",
       "2863  2012  Mato Grosso  Dezembro    194  2012-01-01\n",
       "2864  2013  Mato Grosso  Dezembro    195  2013-01-01\n",
       "2865  2014  Mato Grosso  Dezembro     84  2014-01-01\n",
       "2866  2015  Mato Grosso  Dezembro    394  2015-01-01\n",
       "2867  2016  Mato Grosso  Dezembro    123  2016-01-01\n",
       "\n",
       "[478 rows x 5 columns]"
      ]
     },
     "execution_count": 55,
     "metadata": {},
     "output_type": "execute_result"
    }
   ],
   "source": [
    "df_mato_grosso = df_incendios[df_incendios['state']=='Mato Grosso']\n",
    "df_mato_grosso"
   ]
  },
  {
   "cell_type": "markdown",
   "id": "ffed279a",
   "metadata": {},
   "source": [
    "Agora, dividindo o intervalo, temos que:\n",
    "- As posições para Mato Grosso vão de 2390 a 2628\n",
    "- As posições para Mato Grosso do Sul vão de 2629 a 2867\n",
    "\n",
    "Só precisamos alterar os registros do Mato Grosso do Sul diretamente no DataFrame principal 'df_incendios'"
   ]
  },
  {
   "cell_type": "code",
   "execution_count": 56,
   "id": "07794747",
   "metadata": {},
   "outputs": [],
   "source": [
    "df_incendios.loc[2629:2867, 'state'] = 'Mato Grosso do Sul'"
   ]
  },
  {
   "cell_type": "code",
   "execution_count": 57,
   "id": "eeff3db8",
   "metadata": {},
   "outputs": [
    {
     "data": {
      "text/plain": [
       "state\n",
       "Rio                   717\n",
       "Paraiba               478\n",
       "Acre                  239\n",
       "Alagoas               239\n",
       "Sergipe               239\n",
       "Sao Paulo             239\n",
       "Santa Catarina        239\n",
       "Roraima               239\n",
       "Rondonia              239\n",
       "Piau                  239\n",
       "Pernambuco            239\n",
       "Pará                  239\n",
       "Minas Gerais          239\n",
       "Mato Grosso do Sul    239\n",
       "Mato Grosso           239\n",
       "Maranhao              239\n",
       "Goias                 239\n",
       "Espirito Santo        239\n",
       "Distrito Federal      239\n",
       "Ceara                 239\n",
       "Bahia                 239\n",
       "Amazonas              239\n",
       "Amapa                 239\n",
       "Tocantins             239\n",
       "Name: count, dtype: int64"
      ]
     },
     "execution_count": 57,
     "metadata": {},
     "output_type": "execute_result"
    }
   ],
   "source": [
    "# Visualizando a quantidade de registros por estados após a alteração feita\n",
    "df_incendios['state'].value_counts()"
   ]
  },
  {
   "cell_type": "markdown",
   "id": "a7ac5d72",
   "metadata": {},
   "source": [
    "---"
   ]
  },
  {
   "cell_type": "markdown",
   "id": "f0987502",
   "metadata": {},
   "source": [
    "#### Tratamento 3 - Estado do Paraná combinado no estado da Paraíba:"
   ]
  },
  {
   "cell_type": "markdown",
   "id": "17812e21",
   "metadata": {},
   "source": [
    " Usando a mesma lógica utilizada para a separação feita anteriormente, vamos separar os registros. Na ordem alfabética, os primeiros registros devem ser da Paraiba e os seguintes devem ser do Parana."
   ]
  },
  {
   "cell_type": "code",
   "execution_count": 58,
   "id": "88c9a9e5",
   "metadata": {},
   "outputs": [
    {
     "data": {
      "text/html": [
       "<div>\n",
       "<style scoped>\n",
       "    .dataframe tbody tr th:only-of-type {\n",
       "        vertical-align: middle;\n",
       "    }\n",
       "\n",
       "    .dataframe tbody tr th {\n",
       "        vertical-align: top;\n",
       "    }\n",
       "\n",
       "    .dataframe thead th {\n",
       "        text-align: right;\n",
       "    }\n",
       "</style>\n",
       "<table border=\"1\" class=\"dataframe\">\n",
       "  <thead>\n",
       "    <tr style=\"text-align: right;\">\n",
       "      <th></th>\n",
       "      <th>year</th>\n",
       "      <th>state</th>\n",
       "      <th>month</th>\n",
       "      <th>number</th>\n",
       "      <th>date</th>\n",
       "    </tr>\n",
       "  </thead>\n",
       "  <tbody>\n",
       "    <tr>\n",
       "      <th>3346</th>\n",
       "      <td>1998</td>\n",
       "      <td>Paraiba</td>\n",
       "      <td>Janeiro</td>\n",
       "      <td>0</td>\n",
       "      <td>1998-01-01</td>\n",
       "    </tr>\n",
       "    <tr>\n",
       "      <th>3347</th>\n",
       "      <td>1999</td>\n",
       "      <td>Paraiba</td>\n",
       "      <td>Janeiro</td>\n",
       "      <td>26</td>\n",
       "      <td>1999-01-01</td>\n",
       "    </tr>\n",
       "    <tr>\n",
       "      <th>3348</th>\n",
       "      <td>2000</td>\n",
       "      <td>Paraiba</td>\n",
       "      <td>Janeiro</td>\n",
       "      <td>0</td>\n",
       "      <td>2000-01-01</td>\n",
       "    </tr>\n",
       "    <tr>\n",
       "      <th>3349</th>\n",
       "      <td>2001</td>\n",
       "      <td>Paraiba</td>\n",
       "      <td>Janeiro</td>\n",
       "      <td>11</td>\n",
       "      <td>2001-01-01</td>\n",
       "    </tr>\n",
       "    <tr>\n",
       "      <th>3350</th>\n",
       "      <td>2002</td>\n",
       "      <td>Paraiba</td>\n",
       "      <td>Janeiro</td>\n",
       "      <td>5</td>\n",
       "      <td>2002-01-01</td>\n",
       "    </tr>\n",
       "    <tr>\n",
       "      <th>...</th>\n",
       "      <td>...</td>\n",
       "      <td>...</td>\n",
       "      <td>...</td>\n",
       "      <td>...</td>\n",
       "      <td>...</td>\n",
       "    </tr>\n",
       "    <tr>\n",
       "      <th>3819</th>\n",
       "      <td>2012</td>\n",
       "      <td>Paraiba</td>\n",
       "      <td>Dezembro</td>\n",
       "      <td>54</td>\n",
       "      <td>2012-01-01</td>\n",
       "    </tr>\n",
       "    <tr>\n",
       "      <th>3820</th>\n",
       "      <td>2013</td>\n",
       "      <td>Paraiba</td>\n",
       "      <td>Dezembro</td>\n",
       "      <td>155</td>\n",
       "      <td>2013-01-01</td>\n",
       "    </tr>\n",
       "    <tr>\n",
       "      <th>3821</th>\n",
       "      <td>2014</td>\n",
       "      <td>Paraiba</td>\n",
       "      <td>Dezembro</td>\n",
       "      <td>78</td>\n",
       "      <td>2014-01-01</td>\n",
       "    </tr>\n",
       "    <tr>\n",
       "      <th>3822</th>\n",
       "      <td>2015</td>\n",
       "      <td>Paraiba</td>\n",
       "      <td>Dezembro</td>\n",
       "      <td>30</td>\n",
       "      <td>2015-01-01</td>\n",
       "    </tr>\n",
       "    <tr>\n",
       "      <th>3823</th>\n",
       "      <td>2016</td>\n",
       "      <td>Paraiba</td>\n",
       "      <td>Dezembro</td>\n",
       "      <td>45</td>\n",
       "      <td>2016-01-01</td>\n",
       "    </tr>\n",
       "  </tbody>\n",
       "</table>\n",
       "<p>478 rows × 5 columns</p>\n",
       "</div>"
      ],
      "text/plain": [
       "      year    state     month number        date\n",
       "3346  1998  Paraiba   Janeiro      0  1998-01-01\n",
       "3347  1999  Paraiba   Janeiro     26  1999-01-01\n",
       "3348  2000  Paraiba   Janeiro      0  2000-01-01\n",
       "3349  2001  Paraiba   Janeiro     11  2001-01-01\n",
       "3350  2002  Paraiba   Janeiro      5  2002-01-01\n",
       "...    ...      ...       ...    ...         ...\n",
       "3819  2012  Paraiba  Dezembro     54  2012-01-01\n",
       "3820  2013  Paraiba  Dezembro    155  2013-01-01\n",
       "3821  2014  Paraiba  Dezembro     78  2014-01-01\n",
       "3822  2015  Paraiba  Dezembro     30  2015-01-01\n",
       "3823  2016  Paraiba  Dezembro     45  2016-01-01\n",
       "\n",
       "[478 rows x 5 columns]"
      ]
     },
     "execution_count": 58,
     "metadata": {},
     "output_type": "execute_result"
    }
   ],
   "source": [
    "df_paraiba = df_incendios[df_incendios['state']=='Paraiba']\n",
    "df_paraiba"
   ]
  },
  {
   "cell_type": "markdown",
   "id": "12bc83e4",
   "metadata": {},
   "source": [
    "Agora, dividindo o intervalo, temos que:\n",
    "- As posições para Paraiba vão de 3346 a 2584\n",
    "- As posições para Parana vão de 3585 a 3823\n",
    "\n",
    "Só precisamos alterar os registros do Parana diretamente no DataFrame principal 'df_incendios'"
   ]
  },
  {
   "cell_type": "code",
   "execution_count": 59,
   "id": "0bf8e903",
   "metadata": {},
   "outputs": [],
   "source": [
    "df_incendios.loc[3585:3823, 'state'] = 'Parana'"
   ]
  },
  {
   "cell_type": "code",
   "execution_count": 60,
   "id": "dc2beae6",
   "metadata": {},
   "outputs": [
    {
     "data": {
      "text/plain": [
       "state\n",
       "Rio                   717\n",
       "Acre                  239\n",
       "Pará                  239\n",
       "Sergipe               239\n",
       "Sao Paulo             239\n",
       "Santa Catarina        239\n",
       "Roraima               239\n",
       "Rondonia              239\n",
       "Piau                  239\n",
       "Pernambuco            239\n",
       "Parana                239\n",
       "Paraiba               239\n",
       "Minas Gerais          239\n",
       "Alagoas               239\n",
       "Mato Grosso do Sul    239\n",
       "Mato Grosso           239\n",
       "Maranhao              239\n",
       "Goias                 239\n",
       "Espirito Santo        239\n",
       "Distrito Federal      239\n",
       "Ceara                 239\n",
       "Bahia                 239\n",
       "Amazonas              239\n",
       "Amapa                 239\n",
       "Tocantins             239\n",
       "Name: count, dtype: int64"
      ]
     },
     "execution_count": 60,
     "metadata": {},
     "output_type": "execute_result"
    }
   ],
   "source": [
    "# Visualizando a quantidade de registros por estados após a alteração feita\n",
    "df_incendios['state'].value_counts()"
   ]
  },
  {
   "cell_type": "markdown",
   "id": "0d2bec3b",
   "metadata": {},
   "source": [
    "---"
   ]
  },
  {
   "cell_type": "markdown",
   "id": "8a2c5d70",
   "metadata": {},
   "source": [
    "#### Tratamento 4 - Estado 'Rio' possui 3 estados combinados "
   ]
  },
  {
   "cell_type": "markdown",
   "id": "22f26db2",
   "metadata": {},
   "source": [
    "Usando a mesma lógica dos tratamentos anteriores, vamos separar o estado 'Rio' em:\n",
    "1. Rio de Janeiro\n",
    "2. Rio Grande do Norte\n",
    "3. Rio Grande do Sul\n",
    "\n",
    "Nessa ordem, dado o ordenamento alfabético."
   ]
  },
  {
   "cell_type": "code",
   "execution_count": 61,
   "id": "2ddccfcb",
   "metadata": {},
   "outputs": [
    {
     "data": {
      "text/html": [
       "<div>\n",
       "<style scoped>\n",
       "    .dataframe tbody tr th:only-of-type {\n",
       "        vertical-align: middle;\n",
       "    }\n",
       "\n",
       "    .dataframe tbody tr th {\n",
       "        vertical-align: top;\n",
       "    }\n",
       "\n",
       "    .dataframe thead th {\n",
       "        text-align: right;\n",
       "    }\n",
       "</style>\n",
       "<table border=\"1\" class=\"dataframe\">\n",
       "  <thead>\n",
       "    <tr style=\"text-align: right;\">\n",
       "      <th></th>\n",
       "      <th>year</th>\n",
       "      <th>state</th>\n",
       "      <th>month</th>\n",
       "      <th>number</th>\n",
       "      <th>date</th>\n",
       "    </tr>\n",
       "  </thead>\n",
       "  <tbody>\n",
       "    <tr>\n",
       "      <th>4302</th>\n",
       "      <td>1998</td>\n",
       "      <td>Rio</td>\n",
       "      <td>Janeiro</td>\n",
       "      <td>0</td>\n",
       "      <td>1998-01-01</td>\n",
       "    </tr>\n",
       "    <tr>\n",
       "      <th>4303</th>\n",
       "      <td>1999</td>\n",
       "      <td>Rio</td>\n",
       "      <td>Janeiro</td>\n",
       "      <td>0</td>\n",
       "      <td>1999-01-01</td>\n",
       "    </tr>\n",
       "    <tr>\n",
       "      <th>4304</th>\n",
       "      <td>2000</td>\n",
       "      <td>Rio</td>\n",
       "      <td>Janeiro</td>\n",
       "      <td>0</td>\n",
       "      <td>2000-01-01</td>\n",
       "    </tr>\n",
       "    <tr>\n",
       "      <th>4305</th>\n",
       "      <td>2001</td>\n",
       "      <td>Rio</td>\n",
       "      <td>Janeiro</td>\n",
       "      <td>0</td>\n",
       "      <td>2001-01-01</td>\n",
       "    </tr>\n",
       "    <tr>\n",
       "      <th>4306</th>\n",
       "      <td>2002</td>\n",
       "      <td>Rio</td>\n",
       "      <td>Janeiro</td>\n",
       "      <td>0</td>\n",
       "      <td>2002-01-01</td>\n",
       "    </tr>\n",
       "    <tr>\n",
       "      <th>...</th>\n",
       "      <td>...</td>\n",
       "      <td>...</td>\n",
       "      <td>...</td>\n",
       "      <td>...</td>\n",
       "      <td>...</td>\n",
       "    </tr>\n",
       "    <tr>\n",
       "      <th>5014</th>\n",
       "      <td>2012</td>\n",
       "      <td>Rio</td>\n",
       "      <td>Dezembro</td>\n",
       "      <td>38</td>\n",
       "      <td>2012-01-01</td>\n",
       "    </tr>\n",
       "    <tr>\n",
       "      <th>5015</th>\n",
       "      <td>2013</td>\n",
       "      <td>Rio</td>\n",
       "      <td>Dezembro</td>\n",
       "      <td>62</td>\n",
       "      <td>2013-01-01</td>\n",
       "    </tr>\n",
       "    <tr>\n",
       "      <th>5016</th>\n",
       "      <td>2014</td>\n",
       "      <td>Rio</td>\n",
       "      <td>Dezembro</td>\n",
       "      <td>31</td>\n",
       "      <td>2014-01-01</td>\n",
       "    </tr>\n",
       "    <tr>\n",
       "      <th>5017</th>\n",
       "      <td>2015</td>\n",
       "      <td>Rio</td>\n",
       "      <td>Dezembro</td>\n",
       "      <td>42</td>\n",
       "      <td>2015-01-01</td>\n",
       "    </tr>\n",
       "    <tr>\n",
       "      <th>5018</th>\n",
       "      <td>2016</td>\n",
       "      <td>Rio</td>\n",
       "      <td>Dezembro</td>\n",
       "      <td>79</td>\n",
       "      <td>2016-01-01</td>\n",
       "    </tr>\n",
       "  </tbody>\n",
       "</table>\n",
       "<p>717 rows × 5 columns</p>\n",
       "</div>"
      ],
      "text/plain": [
       "      year state     month number        date\n",
       "4302  1998   Rio   Janeiro      0  1998-01-01\n",
       "4303  1999   Rio   Janeiro      0  1999-01-01\n",
       "4304  2000   Rio   Janeiro      0  2000-01-01\n",
       "4305  2001   Rio   Janeiro      0  2001-01-01\n",
       "4306  2002   Rio   Janeiro      0  2002-01-01\n",
       "...    ...   ...       ...    ...         ...\n",
       "5014  2012   Rio  Dezembro     38  2012-01-01\n",
       "5015  2013   Rio  Dezembro     62  2013-01-01\n",
       "5016  2014   Rio  Dezembro     31  2014-01-01\n",
       "5017  2015   Rio  Dezembro     42  2015-01-01\n",
       "5018  2016   Rio  Dezembro     79  2016-01-01\n",
       "\n",
       "[717 rows x 5 columns]"
      ]
     },
     "execution_count": 61,
     "metadata": {},
     "output_type": "execute_result"
    }
   ],
   "source": [
    "df_rio = df_incendios[df_incendios['state']=='Rio']\n",
    "df_rio"
   ]
  },
  {
   "cell_type": "markdown",
   "id": "1a201b7a",
   "metadata": {},
   "source": [
    "Como não iremos reutilizar o nome 'Rio' precisamos renomear as 3 partes do intervalo:\n",
    "\n",
    "- 'Rio de Janeiro' para o intervalo [4302 : 4540]\n",
    "- 'Rio Grande do Norte' para o intervalo [4541 : 4779]\n",
    "- 'Rio Grande do Sul' para o intervalo [4780 : 5018]\n",
    "\n",
    "Agora podemos alterar diretamente no DataFrame principal 'df_incendios'"
   ]
  },
  {
   "cell_type": "code",
   "execution_count": 62,
   "id": "3c8e36e1",
   "metadata": {},
   "outputs": [],
   "source": [
    "df_incendios.loc[4302:4540, 'state'] = 'Rio de Janeiro'\n",
    "df_incendios.loc[4541:4779, 'state'] = 'Rio Grande do Norte'\n",
    "df_incendios.loc[4780:5018, 'state'] = 'Rio Grande do Sul'"
   ]
  },
  {
   "cell_type": "code",
   "execution_count": 64,
   "id": "aa6eac2c",
   "metadata": {},
   "outputs": [
    {
     "data": {
      "text/plain": [
       "state\n",
       "Acre                   239\n",
       "Paraiba                239\n",
       "Sergipe                239\n",
       "Sao Paulo              239\n",
       "Santa Catarina         239\n",
       "Roraima                239\n",
       "Rondonia               239\n",
       "Rio Grande do Sul      239\n",
       "Rio Grande do Norte    239\n",
       "Rio de Janeiro         239\n",
       "Piau                   239\n",
       "Pernambuco             239\n",
       "Parana                 239\n",
       "Pará                   239\n",
       "Alagoas                239\n",
       "Minas Gerais           239\n",
       "Mato Grosso do Sul     239\n",
       "Mato Grosso            239\n",
       "Maranhao               239\n",
       "Goias                  239\n",
       "Espirito Santo         239\n",
       "Distrito Federal       239\n",
       "Ceara                  239\n",
       "Bahia                  239\n",
       "Amazonas               239\n",
       "Amapa                  239\n",
       "Tocantins              239\n",
       "Name: count, dtype: int64"
      ]
     },
     "execution_count": 64,
     "metadata": {},
     "output_type": "execute_result"
    }
   ],
   "source": [
    "# Visualizando a quantidade de registros por estados após a alteração feita\n",
    "df_incendios['state'].value_counts()"
   ]
  },
  {
   "cell_type": "markdown",
   "id": "d701ed77",
   "metadata": {},
   "source": [
    "Agora temos os 26 estados mais Distrito Federal igualmente com 239 registros."
   ]
  },
  {
   "cell_type": "markdown",
   "id": "22150e71",
   "metadata": {},
   "source": [
    "---"
   ]
  },
  {
   "cell_type": "markdown",
   "id": "94ef93e8",
   "metadata": {},
   "source": [
    "#### Agora, precisamos tratar a tabela 'number', os valores acima de 999 foram computados com um ponto '.' quando o pandas tenta interpretá-los, os converte para decimais"
   ]
  },
  {
   "cell_type": "markdown",
   "id": "c9a9ea49",
   "metadata": {},
   "source": [
    "Ex: O número 1100 é computado como 1.100, o pandas interpreta-o como 1.1"
   ]
  },
  {
   "cell_type": "code",
   "execution_count": 65,
   "id": "64a01a2c",
   "metadata": {},
   "outputs": [
    {
     "data": {
      "text/html": [
       "<div>\n",
       "<style scoped>\n",
       "    .dataframe tbody tr th:only-of-type {\n",
       "        vertical-align: middle;\n",
       "    }\n",
       "\n",
       "    .dataframe tbody tr th {\n",
       "        vertical-align: top;\n",
       "    }\n",
       "\n",
       "    .dataframe thead th {\n",
       "        text-align: right;\n",
       "    }\n",
       "</style>\n",
       "<table border=\"1\" class=\"dataframe\">\n",
       "  <thead>\n",
       "    <tr style=\"text-align: right;\">\n",
       "      <th></th>\n",
       "      <th>year</th>\n",
       "      <th>state</th>\n",
       "      <th>month</th>\n",
       "      <th>number</th>\n",
       "      <th>date</th>\n",
       "    </tr>\n",
       "  </thead>\n",
       "  <tbody>\n",
       "    <tr>\n",
       "      <th>2500</th>\n",
       "      <td>2008</td>\n",
       "      <td>Mato Grosso</td>\n",
       "      <td>Junho</td>\n",
       "      <td>403</td>\n",
       "      <td>2008-01-01</td>\n",
       "    </tr>\n",
       "    <tr>\n",
       "      <th>2501</th>\n",
       "      <td>2009</td>\n",
       "      <td>Mato Grosso</td>\n",
       "      <td>Junho</td>\n",
       "      <td>979</td>\n",
       "      <td>2009-01-01</td>\n",
       "    </tr>\n",
       "    <tr>\n",
       "      <th>2502</th>\n",
       "      <td>2010</td>\n",
       "      <td>Mato Grosso</td>\n",
       "      <td>Junho</td>\n",
       "      <td>1.025</td>\n",
       "      <td>2010-01-01</td>\n",
       "    </tr>\n",
       "    <tr>\n",
       "      <th>2503</th>\n",
       "      <td>2011</td>\n",
       "      <td>Mato Grosso</td>\n",
       "      <td>Junho</td>\n",
       "      <td>974</td>\n",
       "      <td>2011-01-01</td>\n",
       "    </tr>\n",
       "    <tr>\n",
       "      <th>2504</th>\n",
       "      <td>2012</td>\n",
       "      <td>Mato Grosso</td>\n",
       "      <td>Junho</td>\n",
       "      <td>1.651</td>\n",
       "      <td>2012-01-01</td>\n",
       "    </tr>\n",
       "    <tr>\n",
       "      <th>2505</th>\n",
       "      <td>2013</td>\n",
       "      <td>Mato Grosso</td>\n",
       "      <td>Junho</td>\n",
       "      <td>1.213</td>\n",
       "      <td>2013-01-01</td>\n",
       "    </tr>\n",
       "    <tr>\n",
       "      <th>2506</th>\n",
       "      <td>2014</td>\n",
       "      <td>Mato Grosso</td>\n",
       "      <td>Junho</td>\n",
       "      <td>1.795</td>\n",
       "      <td>2014-01-01</td>\n",
       "    </tr>\n",
       "    <tr>\n",
       "      <th>2507</th>\n",
       "      <td>2015</td>\n",
       "      <td>Mato Grosso</td>\n",
       "      <td>Junho</td>\n",
       "      <td>1.402</td>\n",
       "      <td>2015-01-01</td>\n",
       "    </tr>\n",
       "    <tr>\n",
       "      <th>2508</th>\n",
       "      <td>2016</td>\n",
       "      <td>Mato Grosso</td>\n",
       "      <td>Junho</td>\n",
       "      <td>1.417</td>\n",
       "      <td>2016-01-01</td>\n",
       "    </tr>\n",
       "    <tr>\n",
       "      <th>2509</th>\n",
       "      <td>2017</td>\n",
       "      <td>Mato Grosso</td>\n",
       "      <td>Junho</td>\n",
       "      <td>2.041</td>\n",
       "      <td>2017-01-01</td>\n",
       "    </tr>\n",
       "    <tr>\n",
       "      <th>2510</th>\n",
       "      <td>1998</td>\n",
       "      <td>Mato Grosso</td>\n",
       "      <td>Julho</td>\n",
       "      <td>3.712</td>\n",
       "      <td>1998-01-01</td>\n",
       "    </tr>\n",
       "    <tr>\n",
       "      <th>2511</th>\n",
       "      <td>1999</td>\n",
       "      <td>Mato Grosso</td>\n",
       "      <td>Julho</td>\n",
       "      <td>3.926</td>\n",
       "      <td>1999-01-01</td>\n",
       "    </tr>\n",
       "    <tr>\n",
       "      <th>2512</th>\n",
       "      <td>2000</td>\n",
       "      <td>Mato Grosso</td>\n",
       "      <td>Julho</td>\n",
       "      <td>1.338</td>\n",
       "      <td>2000-01-01</td>\n",
       "    </tr>\n",
       "    <tr>\n",
       "      <th>2513</th>\n",
       "      <td>2001</td>\n",
       "      <td>Mato Grosso</td>\n",
       "      <td>Julho</td>\n",
       "      <td>1.555</td>\n",
       "      <td>2001-01-01</td>\n",
       "    </tr>\n",
       "    <tr>\n",
       "      <th>2514</th>\n",
       "      <td>2002</td>\n",
       "      <td>Mato Grosso</td>\n",
       "      <td>Julho</td>\n",
       "      <td>5.661</td>\n",
       "      <td>2002-01-01</td>\n",
       "    </tr>\n",
       "    <tr>\n",
       "      <th>2515</th>\n",
       "      <td>2003</td>\n",
       "      <td>Mato Grosso</td>\n",
       "      <td>Julho</td>\n",
       "      <td>5.435</td>\n",
       "      <td>2003-01-01</td>\n",
       "    </tr>\n",
       "    <tr>\n",
       "      <th>2516</th>\n",
       "      <td>2004</td>\n",
       "      <td>Mato Grosso</td>\n",
       "      <td>Julho</td>\n",
       "      <td>11.517</td>\n",
       "      <td>2004-01-01</td>\n",
       "    </tr>\n",
       "    <tr>\n",
       "      <th>2517</th>\n",
       "      <td>2005</td>\n",
       "      <td>Mato Grosso</td>\n",
       "      <td>Julho</td>\n",
       "      <td>4.172</td>\n",
       "      <td>2005-01-01</td>\n",
       "    </tr>\n",
       "    <tr>\n",
       "      <th>2518</th>\n",
       "      <td>2006</td>\n",
       "      <td>Mato Grosso</td>\n",
       "      <td>Julho</td>\n",
       "      <td>1.941</td>\n",
       "      <td>2006-01-01</td>\n",
       "    </tr>\n",
       "    <tr>\n",
       "      <th>2519</th>\n",
       "      <td>2007</td>\n",
       "      <td>Mato Grosso</td>\n",
       "      <td>Julho</td>\n",
       "      <td>1.79</td>\n",
       "      <td>2007-01-01</td>\n",
       "    </tr>\n",
       "    <tr>\n",
       "      <th>2520</th>\n",
       "      <td>2008</td>\n",
       "      <td>Mato Grosso</td>\n",
       "      <td>Julho</td>\n",
       "      <td>1.117</td>\n",
       "      <td>2008-01-01</td>\n",
       "    </tr>\n",
       "  </tbody>\n",
       "</table>\n",
       "</div>"
      ],
      "text/plain": [
       "      year        state  month  number        date\n",
       "2500  2008  Mato Grosso  Junho     403  2008-01-01\n",
       "2501  2009  Mato Grosso  Junho     979  2009-01-01\n",
       "2502  2010  Mato Grosso  Junho   1.025  2010-01-01\n",
       "2503  2011  Mato Grosso  Junho     974  2011-01-01\n",
       "2504  2012  Mato Grosso  Junho   1.651  2012-01-01\n",
       "2505  2013  Mato Grosso  Junho   1.213  2013-01-01\n",
       "2506  2014  Mato Grosso  Junho   1.795  2014-01-01\n",
       "2507  2015  Mato Grosso  Junho   1.402  2015-01-01\n",
       "2508  2016  Mato Grosso  Junho   1.417  2016-01-01\n",
       "2509  2017  Mato Grosso  Junho   2.041  2017-01-01\n",
       "2510  1998  Mato Grosso  Julho   3.712  1998-01-01\n",
       "2511  1999  Mato Grosso  Julho   3.926  1999-01-01\n",
       "2512  2000  Mato Grosso  Julho   1.338  2000-01-01\n",
       "2513  2001  Mato Grosso  Julho   1.555  2001-01-01\n",
       "2514  2002  Mato Grosso  Julho   5.661  2002-01-01\n",
       "2515  2003  Mato Grosso  Julho   5.435  2003-01-01\n",
       "2516  2004  Mato Grosso  Julho  11.517  2004-01-01\n",
       "2517  2005  Mato Grosso  Julho   4.172  2005-01-01\n",
       "2518  2006  Mato Grosso  Julho   1.941  2006-01-01\n",
       "2519  2007  Mato Grosso  Julho    1.79  2007-01-01\n",
       "2520  2008  Mato Grosso  Julho   1.117  2008-01-01"
      ]
     },
     "execution_count": 65,
     "metadata": {},
     "output_type": "execute_result"
    }
   ],
   "source": [
    "# Vamos observar algumas linhas\n",
    "df_incendios.loc[2500:2520]"
   ]
  },
  {
   "cell_type": "markdown",
   "id": "d8cb3be3",
   "metadata": {},
   "source": [
    "Para resolver esse problema vou seguir a seguinte estratégia:\n",
    "\n",
    "- Criar uma coluna 'multiplicador' que receberá 1000 ou 1\n",
    "- Para cada valor na coluna 'number' checar se o valor possui '.' Se sim: Coluna 'multiplicador' recebe 1000, se não, recebe 1\n",
    "- Multiplicar o valor em 'number' pelo valor em 'multiplicador'"
   ]
  },
  {
   "cell_type": "code",
   "execution_count": 67,
   "id": "63ef9f3d",
   "metadata": {},
   "outputs": [],
   "source": [
    "# criando a coluna multiplicador e o loop para verificar cada valor em 'number'\n",
    "df_incendios['Multiplicador'] = [1000 if '.' in valor else 1 for valor in df_incendios['number']]\n",
    "\n",
    "# atribuindo ao valor em number sua multiplicação pela coluna 'multiplicador'\n",
    "df_incendios['number'] = df_incendios['number'].astype('float64')*df_incendios['Multiplicador']\n",
    "\n",
    "# excluindo a coluna 'multiplicador' usada apenas como auxiliar\n",
    "df_incendios.drop(columns='Multiplicador', inplace = True)"
   ]
  },
  {
   "cell_type": "code",
   "execution_count": 69,
   "id": "7754d8e1",
   "metadata": {},
   "outputs": [
    {
     "data": {
      "text/html": [
       "<div>\n",
       "<style scoped>\n",
       "    .dataframe tbody tr th:only-of-type {\n",
       "        vertical-align: middle;\n",
       "    }\n",
       "\n",
       "    .dataframe tbody tr th {\n",
       "        vertical-align: top;\n",
       "    }\n",
       "\n",
       "    .dataframe thead th {\n",
       "        text-align: right;\n",
       "    }\n",
       "</style>\n",
       "<table border=\"1\" class=\"dataframe\">\n",
       "  <thead>\n",
       "    <tr style=\"text-align: right;\">\n",
       "      <th></th>\n",
       "      <th>year</th>\n",
       "      <th>state</th>\n",
       "      <th>month</th>\n",
       "      <th>number</th>\n",
       "      <th>date</th>\n",
       "    </tr>\n",
       "  </thead>\n",
       "  <tbody>\n",
       "    <tr>\n",
       "      <th>2500</th>\n",
       "      <td>2008</td>\n",
       "      <td>Mato Grosso</td>\n",
       "      <td>Junho</td>\n",
       "      <td>403.0</td>\n",
       "      <td>2008-01-01</td>\n",
       "    </tr>\n",
       "    <tr>\n",
       "      <th>2501</th>\n",
       "      <td>2009</td>\n",
       "      <td>Mato Grosso</td>\n",
       "      <td>Junho</td>\n",
       "      <td>979.0</td>\n",
       "      <td>2009-01-01</td>\n",
       "    </tr>\n",
       "    <tr>\n",
       "      <th>2502</th>\n",
       "      <td>2010</td>\n",
       "      <td>Mato Grosso</td>\n",
       "      <td>Junho</td>\n",
       "      <td>1025.0</td>\n",
       "      <td>2010-01-01</td>\n",
       "    </tr>\n",
       "    <tr>\n",
       "      <th>2503</th>\n",
       "      <td>2011</td>\n",
       "      <td>Mato Grosso</td>\n",
       "      <td>Junho</td>\n",
       "      <td>974.0</td>\n",
       "      <td>2011-01-01</td>\n",
       "    </tr>\n",
       "    <tr>\n",
       "      <th>2504</th>\n",
       "      <td>2012</td>\n",
       "      <td>Mato Grosso</td>\n",
       "      <td>Junho</td>\n",
       "      <td>1651.0</td>\n",
       "      <td>2012-01-01</td>\n",
       "    </tr>\n",
       "    <tr>\n",
       "      <th>2505</th>\n",
       "      <td>2013</td>\n",
       "      <td>Mato Grosso</td>\n",
       "      <td>Junho</td>\n",
       "      <td>1213.0</td>\n",
       "      <td>2013-01-01</td>\n",
       "    </tr>\n",
       "    <tr>\n",
       "      <th>2506</th>\n",
       "      <td>2014</td>\n",
       "      <td>Mato Grosso</td>\n",
       "      <td>Junho</td>\n",
       "      <td>1795.0</td>\n",
       "      <td>2014-01-01</td>\n",
       "    </tr>\n",
       "    <tr>\n",
       "      <th>2507</th>\n",
       "      <td>2015</td>\n",
       "      <td>Mato Grosso</td>\n",
       "      <td>Junho</td>\n",
       "      <td>1402.0</td>\n",
       "      <td>2015-01-01</td>\n",
       "    </tr>\n",
       "    <tr>\n",
       "      <th>2508</th>\n",
       "      <td>2016</td>\n",
       "      <td>Mato Grosso</td>\n",
       "      <td>Junho</td>\n",
       "      <td>1417.0</td>\n",
       "      <td>2016-01-01</td>\n",
       "    </tr>\n",
       "    <tr>\n",
       "      <th>2509</th>\n",
       "      <td>2017</td>\n",
       "      <td>Mato Grosso</td>\n",
       "      <td>Junho</td>\n",
       "      <td>2041.0</td>\n",
       "      <td>2017-01-01</td>\n",
       "    </tr>\n",
       "    <tr>\n",
       "      <th>2510</th>\n",
       "      <td>1998</td>\n",
       "      <td>Mato Grosso</td>\n",
       "      <td>Julho</td>\n",
       "      <td>3712.0</td>\n",
       "      <td>1998-01-01</td>\n",
       "    </tr>\n",
       "    <tr>\n",
       "      <th>2511</th>\n",
       "      <td>1999</td>\n",
       "      <td>Mato Grosso</td>\n",
       "      <td>Julho</td>\n",
       "      <td>3926.0</td>\n",
       "      <td>1999-01-01</td>\n",
       "    </tr>\n",
       "    <tr>\n",
       "      <th>2512</th>\n",
       "      <td>2000</td>\n",
       "      <td>Mato Grosso</td>\n",
       "      <td>Julho</td>\n",
       "      <td>1338.0</td>\n",
       "      <td>2000-01-01</td>\n",
       "    </tr>\n",
       "    <tr>\n",
       "      <th>2513</th>\n",
       "      <td>2001</td>\n",
       "      <td>Mato Grosso</td>\n",
       "      <td>Julho</td>\n",
       "      <td>1555.0</td>\n",
       "      <td>2001-01-01</td>\n",
       "    </tr>\n",
       "    <tr>\n",
       "      <th>2514</th>\n",
       "      <td>2002</td>\n",
       "      <td>Mato Grosso</td>\n",
       "      <td>Julho</td>\n",
       "      <td>5661.0</td>\n",
       "      <td>2002-01-01</td>\n",
       "    </tr>\n",
       "    <tr>\n",
       "      <th>2515</th>\n",
       "      <td>2003</td>\n",
       "      <td>Mato Grosso</td>\n",
       "      <td>Julho</td>\n",
       "      <td>5435.0</td>\n",
       "      <td>2003-01-01</td>\n",
       "    </tr>\n",
       "    <tr>\n",
       "      <th>2516</th>\n",
       "      <td>2004</td>\n",
       "      <td>Mato Grosso</td>\n",
       "      <td>Julho</td>\n",
       "      <td>11517.0</td>\n",
       "      <td>2004-01-01</td>\n",
       "    </tr>\n",
       "    <tr>\n",
       "      <th>2517</th>\n",
       "      <td>2005</td>\n",
       "      <td>Mato Grosso</td>\n",
       "      <td>Julho</td>\n",
       "      <td>4172.0</td>\n",
       "      <td>2005-01-01</td>\n",
       "    </tr>\n",
       "    <tr>\n",
       "      <th>2518</th>\n",
       "      <td>2006</td>\n",
       "      <td>Mato Grosso</td>\n",
       "      <td>Julho</td>\n",
       "      <td>1941.0</td>\n",
       "      <td>2006-01-01</td>\n",
       "    </tr>\n",
       "    <tr>\n",
       "      <th>2519</th>\n",
       "      <td>2007</td>\n",
       "      <td>Mato Grosso</td>\n",
       "      <td>Julho</td>\n",
       "      <td>1790.0</td>\n",
       "      <td>2007-01-01</td>\n",
       "    </tr>\n",
       "    <tr>\n",
       "      <th>2520</th>\n",
       "      <td>2008</td>\n",
       "      <td>Mato Grosso</td>\n",
       "      <td>Julho</td>\n",
       "      <td>1117.0</td>\n",
       "      <td>2008-01-01</td>\n",
       "    </tr>\n",
       "  </tbody>\n",
       "</table>\n",
       "</div>"
      ],
      "text/plain": [
       "      year        state  month   number        date\n",
       "2500  2008  Mato Grosso  Junho    403.0  2008-01-01\n",
       "2501  2009  Mato Grosso  Junho    979.0  2009-01-01\n",
       "2502  2010  Mato Grosso  Junho   1025.0  2010-01-01\n",
       "2503  2011  Mato Grosso  Junho    974.0  2011-01-01\n",
       "2504  2012  Mato Grosso  Junho   1651.0  2012-01-01\n",
       "2505  2013  Mato Grosso  Junho   1213.0  2013-01-01\n",
       "2506  2014  Mato Grosso  Junho   1795.0  2014-01-01\n",
       "2507  2015  Mato Grosso  Junho   1402.0  2015-01-01\n",
       "2508  2016  Mato Grosso  Junho   1417.0  2016-01-01\n",
       "2509  2017  Mato Grosso  Junho   2041.0  2017-01-01\n",
       "2510  1998  Mato Grosso  Julho   3712.0  1998-01-01\n",
       "2511  1999  Mato Grosso  Julho   3926.0  1999-01-01\n",
       "2512  2000  Mato Grosso  Julho   1338.0  2000-01-01\n",
       "2513  2001  Mato Grosso  Julho   1555.0  2001-01-01\n",
       "2514  2002  Mato Grosso  Julho   5661.0  2002-01-01\n",
       "2515  2003  Mato Grosso  Julho   5435.0  2003-01-01\n",
       "2516  2004  Mato Grosso  Julho  11517.0  2004-01-01\n",
       "2517  2005  Mato Grosso  Julho   4172.0  2005-01-01\n",
       "2518  2006  Mato Grosso  Julho   1941.0  2006-01-01\n",
       "2519  2007  Mato Grosso  Julho   1790.0  2007-01-01\n",
       "2520  2008  Mato Grosso  Julho   1117.0  2008-01-01"
      ]
     },
     "execution_count": 69,
     "metadata": {},
     "output_type": "execute_result"
    }
   ],
   "source": [
    "df_incendios.loc[2500:2520]"
   ]
  },
  {
   "cell_type": "markdown",
   "id": "46e56a4b",
   "metadata": {},
   "source": [
    "Agora a base de dados está pronta para resolvermos as questões:"
   ]
  },
  {
   "cell_type": "markdown",
   "id": "98ba122d",
   "metadata": {},
   "source": [
    "---"
   ]
  },
  {
   "cell_type": "markdown",
   "id": "571bf404",
   "metadata": {},
   "source": [
    "#### 11) Carregue o dataset e crie uma mensagem ao leitor do notebook falando quantas linhas e colunas possui o DataFrame."
   ]
  },
  {
   "cell_type": "markdown",
   "id": "ac323b69",
   "metadata": {},
   "source": [
    "Nossa base já foi carregada e tratada acima, vamos apenas imprimir a mensagem para o leitor"
   ]
  },
  {
   "cell_type": "code",
   "execution_count": 72,
   "id": "7bbe5bed",
   "metadata": {},
   "outputs": [
    {
     "name": "stdout",
     "output_type": "stream",
     "text": [
      "\n",
      "USUÁRIO: O conjunto de dados possui 6453 linhas e 5 colunas\n"
     ]
    }
   ],
   "source": [
    " # mensagem informando ao leitor a quantidade de linhas e colunas com o retorno da função shape()\n",
    "print(f'\\nUSUÁRIO: O conjunto de dados possui {df_incendios.shape[0]} linhas e {df_incendios.shape[1]} colunas')"
   ]
  },
  {
   "cell_type": "markdown",
   "id": "b691343a",
   "metadata": {},
   "source": [
    "---"
   ]
  },
  {
   "cell_type": "markdown",
   "id": "db11d460",
   "metadata": {},
   "source": [
    "#### 12) Utilize loc e iloc para exibir da linha 100 até a linha 120 da segunda, terceira e quarta coluna. Qual a diferença das duas sintaxes feitas?"
   ]
  },
  {
   "cell_type": "code",
   "execution_count": 73,
   "id": "3bc10373",
   "metadata": {},
   "outputs": [
    {
     "data": {
      "text/html": [
       "<div>\n",
       "<style scoped>\n",
       "    .dataframe tbody tr th:only-of-type {\n",
       "        vertical-align: middle;\n",
       "    }\n",
       "\n",
       "    .dataframe tbody tr th {\n",
       "        vertical-align: top;\n",
       "    }\n",
       "\n",
       "    .dataframe thead th {\n",
       "        text-align: right;\n",
       "    }\n",
       "</style>\n",
       "<table border=\"1\" class=\"dataframe\">\n",
       "  <thead>\n",
       "    <tr style=\"text-align: right;\">\n",
       "      <th></th>\n",
       "      <th>state</th>\n",
       "      <th>month</th>\n",
       "      <th>number</th>\n",
       "    </tr>\n",
       "  </thead>\n",
       "  <tbody>\n",
       "    <tr>\n",
       "      <th>100</th>\n",
       "      <td>Acre</td>\n",
       "      <td>Junho</td>\n",
       "      <td>3.0</td>\n",
       "    </tr>\n",
       "    <tr>\n",
       "      <th>101</th>\n",
       "      <td>Acre</td>\n",
       "      <td>Junho</td>\n",
       "      <td>0.0</td>\n",
       "    </tr>\n",
       "    <tr>\n",
       "      <th>102</th>\n",
       "      <td>Acre</td>\n",
       "      <td>Junho</td>\n",
       "      <td>1.0</td>\n",
       "    </tr>\n",
       "    <tr>\n",
       "      <th>103</th>\n",
       "      <td>Acre</td>\n",
       "      <td>Junho</td>\n",
       "      <td>1.0</td>\n",
       "    </tr>\n",
       "    <tr>\n",
       "      <th>104</th>\n",
       "      <td>Acre</td>\n",
       "      <td>Junho</td>\n",
       "      <td>0.0</td>\n",
       "    </tr>\n",
       "    <tr>\n",
       "      <th>105</th>\n",
       "      <td>Acre</td>\n",
       "      <td>Junho</td>\n",
       "      <td>0.0</td>\n",
       "    </tr>\n",
       "    <tr>\n",
       "      <th>106</th>\n",
       "      <td>Acre</td>\n",
       "      <td>Junho</td>\n",
       "      <td>5.0</td>\n",
       "    </tr>\n",
       "    <tr>\n",
       "      <th>107</th>\n",
       "      <td>Acre</td>\n",
       "      <td>Junho</td>\n",
       "      <td>27.0</td>\n",
       "    </tr>\n",
       "    <tr>\n",
       "      <th>108</th>\n",
       "      <td>Acre</td>\n",
       "      <td>Junho</td>\n",
       "      <td>1.0</td>\n",
       "    </tr>\n",
       "    <tr>\n",
       "      <th>109</th>\n",
       "      <td>Acre</td>\n",
       "      <td>Junho</td>\n",
       "      <td>4.0</td>\n",
       "    </tr>\n",
       "    <tr>\n",
       "      <th>110</th>\n",
       "      <td>Acre</td>\n",
       "      <td>Junho</td>\n",
       "      <td>0.0</td>\n",
       "    </tr>\n",
       "    <tr>\n",
       "      <th>111</th>\n",
       "      <td>Acre</td>\n",
       "      <td>Junho</td>\n",
       "      <td>0.0</td>\n",
       "    </tr>\n",
       "    <tr>\n",
       "      <th>112</th>\n",
       "      <td>Acre</td>\n",
       "      <td>Junho</td>\n",
       "      <td>1.0</td>\n",
       "    </tr>\n",
       "    <tr>\n",
       "      <th>113</th>\n",
       "      <td>Acre</td>\n",
       "      <td>Junho</td>\n",
       "      <td>10.0</td>\n",
       "    </tr>\n",
       "    <tr>\n",
       "      <th>114</th>\n",
       "      <td>Acre</td>\n",
       "      <td>Junho</td>\n",
       "      <td>7.0</td>\n",
       "    </tr>\n",
       "    <tr>\n",
       "      <th>115</th>\n",
       "      <td>Acre</td>\n",
       "      <td>Junho</td>\n",
       "      <td>8.0</td>\n",
       "    </tr>\n",
       "    <tr>\n",
       "      <th>116</th>\n",
       "      <td>Acre</td>\n",
       "      <td>Junho</td>\n",
       "      <td>17.0</td>\n",
       "    </tr>\n",
       "    <tr>\n",
       "      <th>117</th>\n",
       "      <td>Acre</td>\n",
       "      <td>Junho</td>\n",
       "      <td>40.0</td>\n",
       "    </tr>\n",
       "    <tr>\n",
       "      <th>118</th>\n",
       "      <td>Acre</td>\n",
       "      <td>Junho</td>\n",
       "      <td>87.0</td>\n",
       "    </tr>\n",
       "    <tr>\n",
       "      <th>119</th>\n",
       "      <td>Acre</td>\n",
       "      <td>Junho</td>\n",
       "      <td>45.0</td>\n",
       "    </tr>\n",
       "    <tr>\n",
       "      <th>120</th>\n",
       "      <td>Acre</td>\n",
       "      <td>Julho</td>\n",
       "      <td>37.0</td>\n",
       "    </tr>\n",
       "  </tbody>\n",
       "</table>\n",
       "</div>"
      ],
      "text/plain": [
       "    state  month  number\n",
       "100  Acre  Junho     3.0\n",
       "101  Acre  Junho     0.0\n",
       "102  Acre  Junho     1.0\n",
       "103  Acre  Junho     1.0\n",
       "104  Acre  Junho     0.0\n",
       "105  Acre  Junho     0.0\n",
       "106  Acre  Junho     5.0\n",
       "107  Acre  Junho    27.0\n",
       "108  Acre  Junho     1.0\n",
       "109  Acre  Junho     4.0\n",
       "110  Acre  Junho     0.0\n",
       "111  Acre  Junho     0.0\n",
       "112  Acre  Junho     1.0\n",
       "113  Acre  Junho    10.0\n",
       "114  Acre  Junho     7.0\n",
       "115  Acre  Junho     8.0\n",
       "116  Acre  Junho    17.0\n",
       "117  Acre  Junho    40.0\n",
       "118  Acre  Junho    87.0\n",
       "119  Acre  Junho    45.0\n",
       "120  Acre  Julho    37.0"
      ]
     },
     "execution_count": 73,
     "metadata": {},
     "output_type": "execute_result"
    }
   ],
   "source": [
    "# primeiro vamos selecionar as linhas e colunas usando o método loc\n",
    "(df_incendios.loc[100:120, ['state', 'month', 'number']])"
   ]
  },
  {
   "cell_type": "code",
   "execution_count": 74,
   "id": "57495be8",
   "metadata": {},
   "outputs": [
    {
     "data": {
      "text/html": [
       "<div>\n",
       "<style scoped>\n",
       "    .dataframe tbody tr th:only-of-type {\n",
       "        vertical-align: middle;\n",
       "    }\n",
       "\n",
       "    .dataframe tbody tr th {\n",
       "        vertical-align: top;\n",
       "    }\n",
       "\n",
       "    .dataframe thead th {\n",
       "        text-align: right;\n",
       "    }\n",
       "</style>\n",
       "<table border=\"1\" class=\"dataframe\">\n",
       "  <thead>\n",
       "    <tr style=\"text-align: right;\">\n",
       "      <th></th>\n",
       "      <th>state</th>\n",
       "      <th>month</th>\n",
       "      <th>number</th>\n",
       "    </tr>\n",
       "  </thead>\n",
       "  <tbody>\n",
       "    <tr>\n",
       "      <th>100</th>\n",
       "      <td>Acre</td>\n",
       "      <td>Junho</td>\n",
       "      <td>3.0</td>\n",
       "    </tr>\n",
       "    <tr>\n",
       "      <th>101</th>\n",
       "      <td>Acre</td>\n",
       "      <td>Junho</td>\n",
       "      <td>0.0</td>\n",
       "    </tr>\n",
       "    <tr>\n",
       "      <th>102</th>\n",
       "      <td>Acre</td>\n",
       "      <td>Junho</td>\n",
       "      <td>1.0</td>\n",
       "    </tr>\n",
       "    <tr>\n",
       "      <th>103</th>\n",
       "      <td>Acre</td>\n",
       "      <td>Junho</td>\n",
       "      <td>1.0</td>\n",
       "    </tr>\n",
       "    <tr>\n",
       "      <th>104</th>\n",
       "      <td>Acre</td>\n",
       "      <td>Junho</td>\n",
       "      <td>0.0</td>\n",
       "    </tr>\n",
       "    <tr>\n",
       "      <th>105</th>\n",
       "      <td>Acre</td>\n",
       "      <td>Junho</td>\n",
       "      <td>0.0</td>\n",
       "    </tr>\n",
       "    <tr>\n",
       "      <th>106</th>\n",
       "      <td>Acre</td>\n",
       "      <td>Junho</td>\n",
       "      <td>5.0</td>\n",
       "    </tr>\n",
       "    <tr>\n",
       "      <th>107</th>\n",
       "      <td>Acre</td>\n",
       "      <td>Junho</td>\n",
       "      <td>27.0</td>\n",
       "    </tr>\n",
       "    <tr>\n",
       "      <th>108</th>\n",
       "      <td>Acre</td>\n",
       "      <td>Junho</td>\n",
       "      <td>1.0</td>\n",
       "    </tr>\n",
       "    <tr>\n",
       "      <th>109</th>\n",
       "      <td>Acre</td>\n",
       "      <td>Junho</td>\n",
       "      <td>4.0</td>\n",
       "    </tr>\n",
       "    <tr>\n",
       "      <th>110</th>\n",
       "      <td>Acre</td>\n",
       "      <td>Junho</td>\n",
       "      <td>0.0</td>\n",
       "    </tr>\n",
       "    <tr>\n",
       "      <th>111</th>\n",
       "      <td>Acre</td>\n",
       "      <td>Junho</td>\n",
       "      <td>0.0</td>\n",
       "    </tr>\n",
       "    <tr>\n",
       "      <th>112</th>\n",
       "      <td>Acre</td>\n",
       "      <td>Junho</td>\n",
       "      <td>1.0</td>\n",
       "    </tr>\n",
       "    <tr>\n",
       "      <th>113</th>\n",
       "      <td>Acre</td>\n",
       "      <td>Junho</td>\n",
       "      <td>10.0</td>\n",
       "    </tr>\n",
       "    <tr>\n",
       "      <th>114</th>\n",
       "      <td>Acre</td>\n",
       "      <td>Junho</td>\n",
       "      <td>7.0</td>\n",
       "    </tr>\n",
       "    <tr>\n",
       "      <th>115</th>\n",
       "      <td>Acre</td>\n",
       "      <td>Junho</td>\n",
       "      <td>8.0</td>\n",
       "    </tr>\n",
       "    <tr>\n",
       "      <th>116</th>\n",
       "      <td>Acre</td>\n",
       "      <td>Junho</td>\n",
       "      <td>17.0</td>\n",
       "    </tr>\n",
       "    <tr>\n",
       "      <th>117</th>\n",
       "      <td>Acre</td>\n",
       "      <td>Junho</td>\n",
       "      <td>40.0</td>\n",
       "    </tr>\n",
       "    <tr>\n",
       "      <th>118</th>\n",
       "      <td>Acre</td>\n",
       "      <td>Junho</td>\n",
       "      <td>87.0</td>\n",
       "    </tr>\n",
       "    <tr>\n",
       "      <th>119</th>\n",
       "      <td>Acre</td>\n",
       "      <td>Junho</td>\n",
       "      <td>45.0</td>\n",
       "    </tr>\n",
       "    <tr>\n",
       "      <th>120</th>\n",
       "      <td>Acre</td>\n",
       "      <td>Julho</td>\n",
       "      <td>37.0</td>\n",
       "    </tr>\n",
       "  </tbody>\n",
       "</table>\n",
       "</div>"
      ],
      "text/plain": [
       "    state  month  number\n",
       "100  Acre  Junho     3.0\n",
       "101  Acre  Junho     0.0\n",
       "102  Acre  Junho     1.0\n",
       "103  Acre  Junho     1.0\n",
       "104  Acre  Junho     0.0\n",
       "105  Acre  Junho     0.0\n",
       "106  Acre  Junho     5.0\n",
       "107  Acre  Junho    27.0\n",
       "108  Acre  Junho     1.0\n",
       "109  Acre  Junho     4.0\n",
       "110  Acre  Junho     0.0\n",
       "111  Acre  Junho     0.0\n",
       "112  Acre  Junho     1.0\n",
       "113  Acre  Junho    10.0\n",
       "114  Acre  Junho     7.0\n",
       "115  Acre  Junho     8.0\n",
       "116  Acre  Junho    17.0\n",
       "117  Acre  Junho    40.0\n",
       "118  Acre  Junho    87.0\n",
       "119  Acre  Junho    45.0\n",
       "120  Acre  Julho    37.0"
      ]
     },
     "execution_count": 74,
     "metadata": {},
     "output_type": "execute_result"
    }
   ],
   "source": [
    "# agora vamos fazer a mesma consulta usando o método iloc:\n",
    "df_incendios.iloc[100:121, [1,2,3]]"
   ]
  },
  {
   "cell_type": "markdown",
   "id": "5b74a186",
   "metadata": {},
   "source": [
    "As diferenças entre as sintaxes são poucas, enquanto o loc consegue localizar itens pelo seu nome ou valor, o iloc utiliza o índice dos itens para isso. No loc informamos as colunas pelo seu nome, no iloc informamos o indice de cada coluna."
   ]
  },
  {
   "cell_type": "markdown",
   "id": "93ebca62",
   "metadata": {},
   "source": [
    "---"
   ]
  },
  {
   "cell_type": "markdown",
   "id": "ba2a75b0",
   "metadata": {},
   "source": [
    "#### 13) Qual o total de incêndios que ocorreram no Brasil no ano de 2010? E se considerarmos somente o estado do Mato Grosso do Sul?"
   ]
  },
  {
   "cell_type": "code",
   "execution_count": 75,
   "id": "5b211cd0-1a41-4eaa-94ec-500e3e0472df",
   "metadata": {},
   "outputs": [
    {
     "data": {
      "text/plain": [
       "year\n",
       "False    3399732.0\n",
       "True      249274.0\n",
       "Name: number, dtype: float64"
      ]
     },
     "execution_count": 75,
     "metadata": {},
     "output_type": "execute_result"
    }
   ],
   "source": [
    "# Fazendo um groupby com condição, podemos armazenar a soma de incendios para o ano de 2010\n",
    "incendios_2010_total = df_incendios.groupby(df_incendios['year'] == 2010)['number'].sum()\n",
    "incendios_2010_total"
   ]
  },
  {
   "cell_type": "code",
   "execution_count": 76,
   "id": "ee8561f9-46d3-4195-a97c-9d84945f5123",
   "metadata": {},
   "outputs": [
    {
     "name": "stdout",
     "output_type": "stream",
     "text": [
      "A quantidade de incendios em 2010 foi de: 249274.0\n"
     ]
    }
   ],
   "source": [
    "# Agora, para formatar a resposta, podemos acessar diretamente o valor para 'True'\n",
    "print(f\"A quantidade de incendios em 2010 foi de: {incendios_2010_total[True]}\")"
   ]
  },
  {
   "cell_type": "markdown",
   "id": "797f1164-f8a2-47ee-aead-579b3b9176e4",
   "metadata": {},
   "source": [
    "#### E se considerarmos somente o estado do Mato Grosso do Sul?"
   ]
  },
  {
   "cell_type": "code",
   "execution_count": 79,
   "id": "cbbb425b",
   "metadata": {},
   "outputs": [
    {
     "data": {
      "text/html": [
       "<div>\n",
       "<style scoped>\n",
       "    .dataframe tbody tr th:only-of-type {\n",
       "        vertical-align: middle;\n",
       "    }\n",
       "\n",
       "    .dataframe tbody tr th {\n",
       "        vertical-align: top;\n",
       "    }\n",
       "\n",
       "    .dataframe thead th {\n",
       "        text-align: right;\n",
       "    }\n",
       "</style>\n",
       "<table border=\"1\" class=\"dataframe\">\n",
       "  <thead>\n",
       "    <tr style=\"text-align: right;\">\n",
       "      <th></th>\n",
       "      <th>year</th>\n",
       "      <th>state</th>\n",
       "      <th>month</th>\n",
       "      <th>number</th>\n",
       "      <th>date</th>\n",
       "    </tr>\n",
       "  </thead>\n",
       "  <tbody>\n",
       "    <tr>\n",
       "      <th>2641</th>\n",
       "      <td>2010</td>\n",
       "      <td>Mato Grosso do Sul</td>\n",
       "      <td>Janeiro</td>\n",
       "      <td>72.0</td>\n",
       "      <td>2010-01-01</td>\n",
       "    </tr>\n",
       "    <tr>\n",
       "      <th>2661</th>\n",
       "      <td>2010</td>\n",
       "      <td>Mato Grosso do Sul</td>\n",
       "      <td>Fevereiro</td>\n",
       "      <td>157.0</td>\n",
       "      <td>2010-01-01</td>\n",
       "    </tr>\n",
       "    <tr>\n",
       "      <th>2681</th>\n",
       "      <td>2010</td>\n",
       "      <td>Mato Grosso do Sul</td>\n",
       "      <td>Março</td>\n",
       "      <td>149.0</td>\n",
       "      <td>2010-01-01</td>\n",
       "    </tr>\n",
       "    <tr>\n",
       "      <th>2701</th>\n",
       "      <td>2010</td>\n",
       "      <td>Mato Grosso do Sul</td>\n",
       "      <td>Abril</td>\n",
       "      <td>136.0</td>\n",
       "      <td>2010-01-01</td>\n",
       "    </tr>\n",
       "    <tr>\n",
       "      <th>2721</th>\n",
       "      <td>2010</td>\n",
       "      <td>Mato Grosso do Sul</td>\n",
       "      <td>Maio</td>\n",
       "      <td>105.0</td>\n",
       "      <td>2010-01-01</td>\n",
       "    </tr>\n",
       "  </tbody>\n",
       "</table>\n",
       "</div>"
      ],
      "text/plain": [
       "      year               state      month  number        date\n",
       "2641  2010  Mato Grosso do Sul    Janeiro    72.0  2010-01-01\n",
       "2661  2010  Mato Grosso do Sul  Fevereiro   157.0  2010-01-01\n",
       "2681  2010  Mato Grosso do Sul      Março   149.0  2010-01-01\n",
       "2701  2010  Mato Grosso do Sul      Abril   136.0  2010-01-01\n",
       "2721  2010  Mato Grosso do Sul       Maio   105.0  2010-01-01"
      ]
     },
     "execution_count": 79,
     "metadata": {},
     "output_type": "execute_result"
    }
   ],
   "source": [
    "# Criando uma nova tabela apenas com dados do mato grosso do sul em 2010\n",
    "df_mato_grosso_sul_2010 = df_incendios[(df_incendios['state'] == 'Mato Grosso do Sul') & (df_incendios['year'] == 2010)]\n",
    "df_mato_grosso_sul_2010.head()"
   ]
  },
  {
   "cell_type": "code",
   "execution_count": 81,
   "id": "80187ee5",
   "metadata": {},
   "outputs": [
    {
     "name": "stdout",
     "output_type": "stream",
     "text": [
      "O total de incendios no Mato Grosso em 2010 foi de: 5715\n"
     ]
    }
   ],
   "source": [
    "# Agora podemos somar a coluna number\n",
    "incendios_ms_2010 = df_mato_grosso_sul_2010['number'].sum()\n",
    "print(f\"O total de incendios no Mato Grosso em 2010 foi de: {int(incendios_ms_2010)}\")"
   ]
  },
  {
   "cell_type": "markdown",
   "id": "9fe52067",
   "metadata": {},
   "source": [
    "---"
   ]
  },
  {
   "cell_type": "markdown",
   "id": "f108bddb-0bd9-4efc-a400-f02f6e69757e",
   "metadata": {},
   "source": [
    "#### 14) Qual a média de incêndios por mês no estado do Acre? E o desvio padrão?\n"
   ]
  },
  {
   "cell_type": "code",
   "execution_count": 83,
   "id": "0d847bd2",
   "metadata": {},
   "outputs": [
    {
     "data": {
      "text/html": [
       "<div>\n",
       "<style scoped>\n",
       "    .dataframe tbody tr th:only-of-type {\n",
       "        vertical-align: middle;\n",
       "    }\n",
       "\n",
       "    .dataframe tbody tr th {\n",
       "        vertical-align: top;\n",
       "    }\n",
       "\n",
       "    .dataframe thead th {\n",
       "        text-align: right;\n",
       "    }\n",
       "</style>\n",
       "<table border=\"1\" class=\"dataframe\">\n",
       "  <thead>\n",
       "    <tr style=\"text-align: right;\">\n",
       "      <th></th>\n",
       "      <th>year</th>\n",
       "      <th>state</th>\n",
       "      <th>month</th>\n",
       "      <th>number</th>\n",
       "      <th>date</th>\n",
       "    </tr>\n",
       "  </thead>\n",
       "  <tbody>\n",
       "    <tr>\n",
       "      <th>0</th>\n",
       "      <td>1998</td>\n",
       "      <td>Acre</td>\n",
       "      <td>Janeiro</td>\n",
       "      <td>0.0</td>\n",
       "      <td>1998-01-01</td>\n",
       "    </tr>\n",
       "    <tr>\n",
       "      <th>1</th>\n",
       "      <td>1999</td>\n",
       "      <td>Acre</td>\n",
       "      <td>Janeiro</td>\n",
       "      <td>0.0</td>\n",
       "      <td>1999-01-01</td>\n",
       "    </tr>\n",
       "    <tr>\n",
       "      <th>2</th>\n",
       "      <td>2000</td>\n",
       "      <td>Acre</td>\n",
       "      <td>Janeiro</td>\n",
       "      <td>0.0</td>\n",
       "      <td>2000-01-01</td>\n",
       "    </tr>\n",
       "    <tr>\n",
       "      <th>3</th>\n",
       "      <td>2001</td>\n",
       "      <td>Acre</td>\n",
       "      <td>Janeiro</td>\n",
       "      <td>0.0</td>\n",
       "      <td>2001-01-01</td>\n",
       "    </tr>\n",
       "    <tr>\n",
       "      <th>4</th>\n",
       "      <td>2002</td>\n",
       "      <td>Acre</td>\n",
       "      <td>Janeiro</td>\n",
       "      <td>0.0</td>\n",
       "      <td>2002-01-01</td>\n",
       "    </tr>\n",
       "  </tbody>\n",
       "</table>\n",
       "</div>"
      ],
      "text/plain": [
       "   year state    month  number        date\n",
       "0  1998  Acre  Janeiro     0.0  1998-01-01\n",
       "1  1999  Acre  Janeiro     0.0  1999-01-01\n",
       "2  2000  Acre  Janeiro     0.0  2000-01-01\n",
       "3  2001  Acre  Janeiro     0.0  2001-01-01\n",
       "4  2002  Acre  Janeiro     0.0  2002-01-01"
      ]
     },
     "execution_count": 83,
     "metadata": {},
     "output_type": "execute_result"
    }
   ],
   "source": [
    "# Criando uma tabela para o Acre, facilitando a consulta\n",
    "\n",
    "df_acre = df_incendios[df_incendios['state'] == 'Acre']\n",
    "df_acre.head()"
   ]
  },
  {
   "cell_type": "code",
   "execution_count": 85,
   "id": "b28e9ff3",
   "metadata": {},
   "outputs": [
    {
     "name": "stdout",
     "output_type": "stream",
     "text": [
      "Media = 6119.916666666667\n",
      "Desvio padrao = 12472.427805205394\n"
     ]
    }
   ],
   "source": [
    "# Agrupando a quantidade total de incendios por mes\n",
    "df_media_meses_acre = df_acre.groupby('month')['number'].sum()\n",
    "\n",
    "# Obtendo a média geral por mes\n",
    "print(f\"Media = {df_media_meses_acre.mean()}\")\n",
    "\n",
    "# Obtendo o desvio padrão por mes\n",
    "print(f\"Desvio padrao = {df_media_meses_acre.std()}\")"
   ]
  },
  {
   "cell_type": "markdown",
   "id": "55027fe2-3c03-4c5c-bdbb-a0ca20e4ae5a",
   "metadata": {},
   "source": [
    "---"
   ]
  },
  {
   "cell_type": "markdown",
   "id": "101c1802-4cb5-40a6-96bf-55b8ca63d45f",
   "metadata": {},
   "source": [
    "#### 15) Qual estado possui a maior média de incêndios por mês? E qual possui a menor?\n"
   ]
  },
  {
   "cell_type": "code",
   "execution_count": 86,
   "id": "809b4397",
   "metadata": {},
   "outputs": [
    {
     "name": "stdout",
     "output_type": "stream",
     "text": [
      "Estado com maior média mensal de incendios: Tocantins\n",
      "Estado com menor média mensal de incendios: Acre\n"
     ]
    }
   ],
   "source": [
    "# Vamos agrupar o soma do numero de incendios por estado e mes\n",
    "media_por_mes = df_incendios.groupby(['state', 'month'])['number'].sum()\n",
    "media_por_mes\n",
    "\n",
    "# Criando um array 'estados' para facilitar a análise\n",
    "estados = df_incendios['state'].unique()\n",
    "\n",
    "# Criando um dicionario que recebe como chave o nome do estado e como valor a sua média mensal de incendios, facilitando consultas\n",
    "dict_estado_media_mensal = {}\n",
    "for estado in estados:\n",
    "    dict_estado_media_mensal[estado] = media_por_mes[estado].mean()\n",
    "\n",
    "# Como nossos dados estãoarmazenados em um dicionario, podemos consultas os maiores e menores valores de forma muito simples\n",
    "print(f\"Estado com maior média mensal de incendios: {max(dict_estado_media_mensal)}\")\n",
    "print(f\"Estado com menor média mensal de incendios: {min(dict_estado_media_mensal)}\")"
   ]
  },
  {
   "cell_type": "markdown",
   "id": "d3361b50-5e19-453a-bc0a-43965e0d61cf",
   "metadata": {},
   "source": [
    "---"
   ]
  },
  {
   "cell_type": "markdown",
   "id": "06cb8865-8ef1-4c28-956d-bd540f12f8dd",
   "metadata": {},
   "source": [
    "#### 16) Crie uma coluna chamada regiao_sudeste e marque com 1 para quando a observação pertencer a um destes estados e 0, caso contrário. Faça o mesmo para a região centro-oeste. Qual a diferença no total de incêndios dessas regiões? Qual região possui mais incêndios? Consulte a internet para entender por qual motivo uma das regiões possui mais incêndio que a outra."
   ]
  },
  {
   "cell_type": "code",
   "execution_count": 87,
   "id": "10c4ab5b",
   "metadata": {},
   "outputs": [],
   "source": [
    "# Para isso, dividi os estados em duas listas referentes às regiões\n",
    "array_sudeste = ['Espirito Santo', 'Minas Gerais', 'Rio de Janeiro', 'São Paulo']\n",
    "array_centro_oeste = ['Goias', 'Mato Grosso', 'Mato Grosso do Sul', 'Distrito Federal']"
   ]
  },
  {
   "cell_type": "code",
   "execution_count": 90,
   "id": "61668437",
   "metadata": {},
   "outputs": [],
   "source": [
    "# Usando o método 'where' da lib numpy, podemos fazer uma criação de coluna condicional\n",
    "df_incendios['regiao_sudeste']=np.where(df_incendios['state'].isin(array_sudeste), 1, 0)\n",
    "df_incendios['regiao_centro_oeste']=np.where(df_incendios['state'].isin(array_centro_oeste), 1, 0)"
   ]
  },
  {
   "cell_type": "code",
   "execution_count": 91,
   "id": "ae1a9699",
   "metadata": {},
   "outputs": [
    {
     "name": "stdout",
     "output_type": "stream",
     "text": [
      "regiao_sudeste\n",
      "0    3449168.0\n",
      "1     199838.0\n",
      "Name: number, dtype: float64\n",
      "\n",
      "\n",
      "\n",
      "regiao_centro_oeste\n",
      "0    2686781.0\n",
      "1     962225.0\n",
      "Name: number, dtype: float64\n"
     ]
    }
   ],
   "source": [
    "# Vamos agora agrupar a soma de incendios para as novas colunas criadas\n",
    "incendios_sudeste = df_incendios.groupby('regiao_sudeste')['number'].sum()\n",
    "print(incendios_sudeste)\n",
    "\n",
    "print(\"\\n\\n\")\n",
    "\n",
    "incendios_centro_oeste = df_incendios.groupby('regiao_centro_oeste')['number'].sum()\n",
    "print(incendios_centro_oeste)"
   ]
  },
  {
   "cell_type": "markdown",
   "id": "38c0a68f-9073-4c71-a2e9-ea3f4ea074e5",
   "metadata": {},
   "source": [
    "Podemos observar que, para cada coluna, o agrupamento retornou a soma para 1(estados da região) e para 0(estados de fora da região)"
   ]
  },
  {
   "cell_type": "code",
   "execution_count": 93,
   "id": "b5146ce4",
   "metadata": {},
   "outputs": [
    {
     "name": "stdout",
     "output_type": "stream",
     "text": [
      "Sudeste: 199838.0\n",
      "Centro Oeste: 962225.0\n"
     ]
    }
   ],
   "source": [
    "# Para facilitar a visualização dos resultados, vamos acessar a soma para 1 de cada coluna, obtendo nossa resposta da questão:\n",
    "\n",
    "print(f\"Sudeste: {incendios_sudeste[1]}\")\n",
    "print(f\"Centro Oeste: {incendios_centro_oeste[1]}\")"
   ]
  },
  {
   "cell_type": "markdown",
   "id": "666deb23-1263-4730-b495-973159c93c3f",
   "metadata": {},
   "source": [
    "Podemos observar que a região Centro Oeste tem cerca de 54% mais incêndios que a região Sudeste.\n",
    "\n",
    "Segundo a WWF Brasil, vários fatores contribuem para a grande quantidade de queimadas no centro-oeste, entre eles estão: Baixa umidade do ar, vegetação seca, altas temperaturas e baixa estiagem, somados à ação de latifundiários que promovem queimadas intencionais com diversas finalidades para o agronegócio."
   ]
  }
 ],
 "metadata": {
  "kernelspec": {
   "display_name": "Python 3 (ipykernel)",
   "language": "python",
   "name": "python3"
  },
  "language_info": {
   "codemirror_mode": {
    "name": "ipython",
    "version": 3
   },
   "file_extension": ".py",
   "mimetype": "text/x-python",
   "name": "python",
   "nbconvert_exporter": "python",
   "pygments_lexer": "ipython3",
   "version": "3.11.5"
  }
 },
 "nbformat": 4,
 "nbformat_minor": 5
}
